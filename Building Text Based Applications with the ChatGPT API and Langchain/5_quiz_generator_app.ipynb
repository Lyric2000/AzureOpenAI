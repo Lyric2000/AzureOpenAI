{
 "cells": [
  {
   "cell_type": "markdown",
   "metadata": {},
   "source": [
    "# Quiz App\n",
    "\n",
    "- Given a page of a pdf\n",
    "- Given a concept\n",
    "- Simple interface\n",
    "- Quickly generate flexible quizzes\n",
    "  - Generate any type of questions (True or False, text based questions, multiple choice)\n",
    "- Feedback on the answers"
   ]
  },
  {
   "cell_type": "code",
   "execution_count": 4,
   "metadata": {},
   "outputs": [],
   "source": [
    "import dotenv\n",
    "import os\n",
    "import openai\n",
    "\n",
    "dotenv.load_dotenv()\n",
    "\n",
    "# set up environment variables\n",
    "OPENAI_API_KEY = os.environ['OPENAI_API_KEY']\n",
    "OPENAI_API_BASE = os.environ['OPENAI_API_BASE']\n",
    "OPENAI_API_TYPE = os.environ['OPENAI_API_TYPE']\n",
    "OPENAI_API_VERSION = os.environ['OPENAI_API_VERSION']\n",
    "\n",
    "# set up OpenAI client\n",
    "openai.api_key = OPENAI_API_KEY\n",
    "openai.api_base = OPENAI_API_BASE\n",
    "openai.api_type = OPENAI_API_TYPE\n",
    "openai.api_version = OPENAI_API_VERSION"
   ]
  },
  {
   "cell_type": "code",
   "execution_count": 5,
   "metadata": {},
   "outputs": [],
   "source": [
    "# import openai\n",
    "\n",
    "def get_response(prompt_question):\n",
    "    response = openai.ChatCompletion.create(\n",
    "        engine=\"chat\",\n",
    "        messages=[{\"role\": \"system\", \"content\": \"You are a helpful research and\\\n",
    "            programming assistant\"},\n",
    "                  {\"role\": \"user\", \"content\": prompt_question}]\n",
    "    )\n",
    "    \n",
    "    return response[\"choices\"][0][\"message\"][\"content\"]\n",
    "\n",
    "\n",
    "prompt = \"Create a quiz about the basics of Python programming.\"\n",
    "quiz_python = get_response(prompt)"
   ]
  },
  {
   "cell_type": "code",
   "execution_count": 7,
   "metadata": {},
   "outputs": [
    {
     "name": "stdout",
     "output_type": "stream",
     "text": [
      "Sure! Here's a quiz about the basics of Python programming. Each question has multiple-choice answers. Let's get started:\n",
      "\n",
      "1. What is Python?\n",
      "a) A type of snake\n",
      "b) A programming language\n",
      "c) A brand of computer\n",
      "\n",
      "2. How do you define a variable in Python?\n",
      "a) var myVariable = 10\n",
      "b) myVariable = 10\n",
      "c) variable myVariable = 10\n",
      "\n",
      "3. What is the correct way to write a comment in Python?\n",
      "a) // This is a comment\n",
      "b) # This is a comment\n",
      "c) /* This is a comment */\n",
      "\n",
      "4. What is the output of the following code?\n",
      "x = 5\n",
      "y = 2\n",
      "z = x + y\n",
      "print(z)\n",
      "a) 7\n",
      "b) 10\n",
      "c) Error\n",
      "\n",
      "5. Which statement is used to make a decision based on a condition in Python?\n",
      "a) if\n",
      "b) for\n",
      "c) while\n",
      "\n",
      "6. How do you print \"Hello, World!\" in Python?\n",
      "a) print(\"Hello, World!\")\n",
      "b) print(\"Hello, World!\")\n",
      "c) log(\"Hello, World!\")\n",
      "\n",
      "7. How many spaces should you use for indentation in Python?\n",
      "a) 2 spaces\n",
      "b) 4 spaces\n",
      "c) It doesn't matter as long as it's consistent\n",
      "\n",
      "8. What does the \"len\" function do in Python?\n",
      "a) Returns the length of a string or list\n",
      "b) Converts a string to lowercase\n",
      "c) Prints the current date and time\n",
      "\n",
      "9. How do you define a function in Python?\n",
      "a) function myFunction():\n",
      "b) define myFunction():\n",
      "c) def myFunction():\n",
      "\n",
      "10. What is the correct way to check if two variables are equal in Python?\n",
      "a) a = b\n",
      "b) a == b\n",
      "c) a =:= b\n",
      "\n",
      "That's it for the quiz! To check your answers, simply match your choices with the correct letters (e.g., 1-b, 2-a, etc.). Good luck!\n"
     ]
    }
   ],
   "source": [
    "print(quiz_python)"
   ]
  },
  {
   "cell_type": "code",
   "execution_count": 6,
   "metadata": {},
   "outputs": [
    {
     "data": {
      "text/markdown": [
       "Sure! Here's a quiz about the basics of Python programming. Each question has multiple-choice answers. Let's get started:\n",
       "\n",
       "1. What is Python?\n",
       "a) A type of snake\n",
       "b) A programming language\n",
       "c) A brand of computer\n",
       "\n",
       "2. How do you define a variable in Python?\n",
       "a) var myVariable = 10\n",
       "b) myVariable = 10\n",
       "c) variable myVariable = 10\n",
       "\n",
       "3. What is the correct way to write a comment in Python?\n",
       "a) // This is a comment\n",
       "b) # This is a comment\n",
       "c) /* This is a comment */\n",
       "\n",
       "4. What is the output of the following code?\n",
       "x = 5\n",
       "y = 2\n",
       "z = x + y\n",
       "print(z)\n",
       "a) 7\n",
       "b) 10\n",
       "c) Error\n",
       "\n",
       "5. Which statement is used to make a decision based on a condition in Python?\n",
       "a) if\n",
       "b) for\n",
       "c) while\n",
       "\n",
       "6. How do you print \"Hello, World!\" in Python?\n",
       "a) print(\"Hello, World!\")\n",
       "b) print(\"Hello, World!\")\n",
       "c) log(\"Hello, World!\")\n",
       "\n",
       "7. How many spaces should you use for indentation in Python?\n",
       "a) 2 spaces\n",
       "b) 4 spaces\n",
       "c) It doesn't matter as long as it's consistent\n",
       "\n",
       "8. What does the \"len\" function do in Python?\n",
       "a) Returns the length of a string or list\n",
       "b) Converts a string to lowercase\n",
       "c) Prints the current date and time\n",
       "\n",
       "9. How do you define a function in Python?\n",
       "a) function myFunction():\n",
       "b) define myFunction():\n",
       "c) def myFunction():\n",
       "\n",
       "10. What is the correct way to check if two variables are equal in Python?\n",
       "a) a = b\n",
       "b) a == b\n",
       "c) a =:= b\n",
       "\n",
       "That's it for the quiz! To check your answers, simply match your choices with the correct letters (e.g., 1-b, 2-a, etc.). Good luck!"
      ],
      "text/plain": [
       "<IPython.core.display.Markdown object>"
      ]
     },
     "execution_count": 6,
     "metadata": {},
     "output_type": "execute_result"
    }
   ],
   "source": [
    "from IPython.display import Markdown, display\n",
    "\n",
    "Markdown(quiz_python)"
   ]
  },
  {
   "cell_type": "markdown",
   "metadata": {},
   "source": [
    "Requirements for the app\n",
    "\n",
    "1. We have to be specific\n",
    "   1. We want to specify the number of questions we want\n",
    "2. We have to be able to feed in contextual information\n",
    "3. We want to be able to specify the types of questions we want created (T/F, multiple choice, text...)"
   ]
  },
  {
   "cell_type": "code",
   "execution_count": 8,
   "metadata": {},
   "outputs": [],
   "source": [
    "from langchain import PromptTemplate"
   ]
  },
  {
   "cell_type": "code",
   "execution_count": 9,
   "metadata": {},
   "outputs": [],
   "source": [
    "template = \"\"\"\n",
    "You are an expert quiz maker for technical fields. Let's think step by step and\n",
    "create a quiz with {num_questions} {quiz_type} questions about the following concept/content: {quiz_context}.\n",
    "\n",
    "The format of the quiz could be one of the following:\n",
    "- Multiple-choice: \n",
    "- Questions:\n",
    "    <Question1>: <a. Answer 1>, <b. Answer 2>, <c. Answer 3>, <d. Answer 4>\n",
    "    <Question2>: <a. Answer 1>, <b. Answer 2>, <c. Answer 3>, <d. Answer 4>\n",
    "    ....\n",
    "- Answers:\n",
    "    <Answer1>: <a|b|c|d>\n",
    "    <Answer2>: <a|b|c|d>\n",
    "    ....\n",
    "    Example:\n",
    "    - Questions:\n",
    "    - 1. What is the time complexity of a binary search tree?\n",
    "        a. O(n)\n",
    "        b. O(log n)\n",
    "        c. O(n^2)\n",
    "        d. O(1)\n",
    "    - Answers: \n",
    "        1. b\n",
    "- True-false:\n",
    "    - Questions:\n",
    "        <Question1>: <True|False>\n",
    "        <Question2>: <True|False>\n",
    "        .....\n",
    "    - Answers:\n",
    "        <Answer1>: <True|False>\n",
    "        <Answer2>: <True|False>\n",
    "        .....\n",
    "    Example:\n",
    "    - Questions:\n",
    "        - 1. What is a binary search tree?\n",
    "        - 2. How are binary search trees implemented?\n",
    "    - Answers:\n",
    "        - 1. True\n",
    "        - 2. False\n",
    "- Open-ended:\n",
    "- Questions:\n",
    "    <Question1>: \n",
    "    <Question2>:\n",
    "- Answers:    \n",
    "    <Answer1>:\n",
    "    <Answer2>:\n",
    "Example:\n",
    "    Questions:\n",
    "    - 1. What is a binary search tree?\n",
    "    - 2. How are binary search trees implemented?\n",
    "    \n",
    "    - Answers: \n",
    "        1. A binary search tree is a data structure that is used to store data in a sorted manner.\n",
    "        2. Binary search trees are implemented using linked lists.\n",
    "\"\"\""
   ]
  },
  {
   "cell_type": "code",
   "execution_count": 10,
   "metadata": {},
   "outputs": [],
   "source": [
    "prompt = PromptTemplate.from_template(template)"
   ]
  },
  {
   "cell_type": "code",
   "execution_count": 11,
   "metadata": {},
   "outputs": [
    {
     "data": {
      "text/plain": [
       "\"\\nYou are an expert quiz maker for technical fields. Let's think step by step and\\ncreate a quiz with 3 multiple-choice questions about the following concept/content: Data Structures in Python Programming.\\n\\nThe format of the quiz could be one of the following:\\n- Multiple-choice: \\n- Questions:\\n    <Question1>: <a. Answer 1>, <b. Answer 2>, <c. Answer 3>, <d. Answer 4>\\n    <Question2>: <a. Answer 1>, <b. Answer 2>, <c. Answer 3>, <d. Answer 4>\\n    ....\\n- Answers:\\n    <Answer1>: <a|b|c|d>\\n    <Answer2>: <a|b|c|d>\\n    ....\\n    Example:\\n    - Questions:\\n    - 1. What is the time complexity of a binary search tree?\\n        a. O(n)\\n        b. O(log n)\\n        c. O(n^2)\\n        d. O(1)\\n    - Answers: \\n        1. b\\n- True-false:\\n    - Questions:\\n        <Question1>: <True|False>\\n        <Question2>: <True|False>\\n        .....\\n    - Answers:\\n        <Answer1>: <True|False>\\n        <Answer2>: <True|False>\\n        .....\\n    Example:\\n    - Questions:\\n        - 1. What is a binary search tree?\\n        - 2. How are binary search trees implemented?\\n    - Answers:\\n        - 1. True\\n        - 2. False\\n- Open-ended:\\n- Questions:\\n    <Question1>: \\n    <Question2>:\\n- Answers:    \\n    <Answer1>:\\n    <Answer2>:\\nExample:\\n    Questions:\\n    - 1. What is a binary search tree?\\n    - 2. How are binary search trees implemented?\\n    \\n    - Answers: \\n        1. A binary search tree is a data structure that is used to store data in a sorted manner.\\n        2. Binary search trees are implemented using linked lists.\\n\""
      ]
     },
     "execution_count": 11,
     "metadata": {},
     "output_type": "execute_result"
    }
   ],
   "source": [
    "prompt.format(num_questions=3, quiz_type=\"multiple-choice\", quiz_context=\"Data Structures in Python Programming\")"
   ]
  },
  {
   "cell_type": "code",
   "execution_count": 12,
   "metadata": {},
   "outputs": [],
   "source": [
    "from langchain.chat_models import ChatOpenAI\n",
    "from langchain.chains import LLMChain\n",
    "import re"
   ]
  },
  {
   "cell_type": "code",
   "execution_count": 18,
   "metadata": {},
   "outputs": [
    {
     "name": "stderr",
     "output_type": "stream",
     "text": [
      "WARNING! engine is not default parameter.\n",
      "                    engine was transferred to model_kwargs.\n",
      "                    Please confirm that engine is what you intended.\n"
     ]
    }
   ],
   "source": [
    "chain = LLMChain(llm=ChatOpenAI(temperature=0.2, engine=\"chat\"),\n",
    "                 prompt=prompt)"
   ]
  },
  {
   "cell_type": "code",
   "execution_count": 19,
   "metadata": {},
   "outputs": [],
   "source": [
    "quiz_response = chain.run(num_questions=3, quiz_type=\"multiple-choice\", quiz_context=\"Data Structures in Python Programming\",)"
   ]
  },
  {
   "cell_type": "code",
   "execution_count": 20,
   "metadata": {},
   "outputs": [
    {
     "data": {
      "text/markdown": [
       "Great! Let's create a multiple-choice quiz about Data Structures in Python Programming. Here's the format:\n",
       "\n",
       "- Questions:\n",
       "    1. What is a data structure?\n",
       "        a. A way to store and organize data\n",
       "        b. A programming language\n",
       "        c. A sorting algorithm\n",
       "        d. A loop in Python\n",
       "\n",
       "    2. Which data structure is used to store data in a last-in-first-out (LIFO) order?\n",
       "        a. Queue\n",
       "        b. Stack\n",
       "        c. Linked List\n",
       "        d. Tree\n",
       "\n",
       "    3. Which data structure is used to store data in a key-value pair format?\n",
       "        a. Array\n",
       "        b. Stack\n",
       "        c. Queue\n",
       "        d. Dictionary\n",
       "\n",
       "- Answers:\n",
       "    1. a\n",
       "    2. b\n",
       "    3. d\n",
       "\n",
       "Feel free to modify or add more questions if needed!"
      ],
      "text/plain": [
       "<IPython.core.display.Markdown object>"
      ]
     },
     "execution_count": 20,
     "metadata": {},
     "output_type": "execute_result"
    }
   ],
   "source": [
    "Markdown(quiz_response)"
   ]
  },
  {
   "cell_type": "code",
   "execution_count": 21,
   "metadata": {},
   "outputs": [],
   "source": [
    "quiz_response = chain.run(num_questions=5, quiz_type=\"True-false\", quiz_context=\"3D Printing\", verbose=True)"
   ]
  },
  {
   "cell_type": "code",
   "execution_count": 22,
   "metadata": {},
   "outputs": [
    {
     "data": {
      "text/markdown": [
       "True-false quiz about 3D Printing:\n",
       "\n",
       "Questions:\n",
       "1. 3D printing is a process of creating a physical object from a digital model. (True|False)\n",
       "2. 3D printing can only be done using plastic materials. (True|False)\n",
       "3. 3D printing is also known as additive manufacturing. (True|False)\n",
       "4. 3D printers can only create small objects. (True|False)\n",
       "5. 3D printing is a relatively new technology that was developed in the 21st century. (True|False)\n",
       "\n",
       "Answers:\n",
       "1. True\n",
       "2. False\n",
       "3. True\n",
       "4. False\n",
       "5. False"
      ],
      "text/plain": [
       "<IPython.core.display.Markdown object>"
      ]
     },
     "execution_count": 22,
     "metadata": {},
     "output_type": "execute_result"
    }
   ],
   "source": [
    "Markdown(quiz_response)"
   ]
  },
  {
   "cell_type": "code",
   "execution_count": 23,
   "metadata": {},
   "outputs": [],
   "source": [
    "quiz_response = chain.run(num_questions=3, quiz_type=\"Open-ended\", quiz_context=\"Art History\")"
   ]
  },
  {
   "cell_type": "code",
   "execution_count": 24,
   "metadata": {},
   "outputs": [
    {
     "data": {
      "text/markdown": [
       "Open-ended questions about Art History:\n",
       "\n",
       "Questions:\n",
       "1. Who painted the Mona Lisa?\n",
       "2. What is the significance of the Lascaux cave paintings?\n",
       "3. Describe the style and characteristics of Impressionist art.\n",
       "\n",
       "Answers:\n",
       "1. Leonardo da Vinci\n",
       "2. The Lascaux cave paintings are significant because they provide valuable insights into prehistoric human culture and artistic expression.\n",
       "3. Impressionist art is characterized by its emphasis on capturing the fleeting effects of light and color, as well as the use of loose brushwork and an emphasis on capturing the atmosphere and mood of a scene. Some notable Impressionist artists include Claude Monet, Pierre-Auguste Renoir, and Edgar Degas."
      ],
      "text/plain": [
       "<IPython.core.display.Markdown object>"
      ]
     },
     "execution_count": 24,
     "metadata": {},
     "output_type": "execute_result"
    }
   ],
   "source": [
    "Markdown(quiz_response)"
   ]
  },
  {
   "cell_type": "markdown",
   "metadata": {},
   "source": [
    "# Notes Summarizer App\n",
    "\n",
    "**Presentation:** \n",
    "\n",
    "[building a Notes Summarizer with ChatGPT](https://www.notion.so/building-a-Notes-Summarizer-with-ChatGPT-1793d64631a144978c016d44e0a54ebe?pvs=21)\n",
    "\n",
    "- Exercise/Lab:\n",
    "    \n",
    "    [build a simple notes summarizer app with ChatGPT](https://www.notion.so/build-a-simple-notes-summarizer-app-with-ChatGPT-5af7f8435d81476c87da5d6e5af2e2d7?pvs=21)\n",
    "    \n",
    "\n"
   ]
  },
  {
   "cell_type": "code",
   "execution_count": 25,
   "metadata": {},
   "outputs": [
    {
     "data": {
      "text/plain": [
       "'The project launch meeting for a new initiative, \"CodeName X,\" was held on July 23, 2023, with attendees John Doe, Jane Smith, Michael Brown, and Lisa Johnson. The aim of the project is to develop a new AI model which will enhance the product\\'s abilities, with an estimated project timeline of 18 months, subject to adjustments. The resources include a robust development team and AI training facilities, with a possibility of employing external consultants. The development approach shall be two-staged; an exploratory phase for investigating various methods, and a focused development phase for model construction and refinement. Agile methodology has been chosen to manage the project. To proceed, John will issue a project brief, Jane will research potential consultants, Michael will create a sandbox for the initial phase, and Lisa will configure the project in the management tool and plan a follow-up meeting.'"
      ]
     },
     "execution_count": 25,
     "metadata": {},
     "output_type": "execute_result"
    }
   ],
   "source": [
    "import openai\n",
    "\n",
    "def get_response(prompt):\n",
    "    response = openai.ChatCompletion.create(\n",
    "        engine=\"chatgpt-4\",\n",
    "        messages=[\n",
    "            {\"role\": \"system\", \"content\": \"You are a helpful research assistant\"},\n",
    "            {\"role\": \"user\", \"content\": prompt}\n",
    "        ]\n",
    "    )\n",
    "    return response[\"choices\"][0][\"message\"][\"content\"]\n",
    "\n",
    "text = \"\"\"Title: Project Launch Meeting\n",
    "\n",
    "Date: July 23, 2023\n",
    "\n",
    "Attendees: John Doe, Jane Smith, Michael Brown, Lisa Johnson\n",
    "\n",
    "Summary: \n",
    "\n",
    "Today we held the kickoff meeting for our new project, CodeName X. The team is very excited to get started. John Doe gave an overview of the project, explaining that the goal is to develop a new AI model that will significantly improve our product's capabilities. The estimated timeline for the project is 18 months, but John stressed that this is a rough estimate and will likely be refined as we delve deeper into the project.\n",
    "\n",
    "Jane Smith spoke about the resources we have at our disposal, including a robust development team and state-of-the-art AI training facilities. She also mentioned the possibility of bringing in some external consultants for specific tasks, which was met with approval from the rest of the team.\n",
    "\n",
    "Michael Brown, our lead developer, gave a technical overview of how we might approach the development of the AI model. He proposed a two-stage process: an initial exploratory phase to investigate different methods, followed by a focused development phase where we will construct and fine-tune the final model. \n",
    "\n",
    "Lisa Johnson talked about project management and highlighted the importance of maintaining good communication throughout the project. She suggested using Agile methodology to manage the project, which the team agreed upon.\n",
    "\n",
    "Next Steps:\n",
    "\n",
    "John will send out a project brief by the end of this week. Jane will look into potential consultants we might want to bring on board. Michael will begin setting up a sandbox for the development team to use during the exploratory phase. Lisa will set up the project in our project management tool and will schedule a project planning meeting for next week.\n",
    "\n",
    "\"\"\"\n",
    "get_response(f\"Summarize this text: {text}\")"
   ]
  },
  {
   "cell_type": "markdown",
   "metadata": {},
   "source": [
    "Ok , great we can get a basic summary easy using just ChatGPT, but how about if we want to be able to specify different types of summaries? \n",
    "What if the contents we want to summarize are bigger than the context length of our model?\n",
    "\n",
    "Let's address these issues by using langchain for summarization."
   ]
  },
  {
   "cell_type": "code",
   "execution_count": 26,
   "metadata": {},
   "outputs": [],
   "source": [
    "from langchain import PromptTemplate\n",
    "from langchain.chat_models import ChatOpenAI\n",
    "from langchain.chains.summarize import load_summarize_chain\n",
    "from langchain.document_loaders import TextLoader"
   ]
  },
  {
   "cell_type": "markdown",
   "metadata": {},
   "source": [
    "With langchain, summarization is as simple as this:"
   ]
  },
  {
   "cell_type": "code",
   "execution_count": 28,
   "metadata": {},
   "outputs": [
    {
     "name": "stderr",
     "output_type": "stream",
     "text": [
      "WARNING! engine is not default parameter.\n",
      "                    engine was transferred to model_kwargs.\n",
      "                    Please confirm that engine is what you intended.\n"
     ]
    },
    {
     "data": {
      "text/plain": [
       "'The kickoff meeting for the new project, CodeName X, was held on July 23, 2023, with attendees John Doe, Jane Smith, Michael Brown, and Lisa Johnson. The project aims to develop a new AI model to enhance product capabilities, with a tentative timeline of 18 months. Resources available include a development team and AI training facilities, and the possibility of hiring external consultants. The development process will be in two stages, starting with an exploratory phase followed by a focused development phase. Agile methodology will be used for project management and maintaining communication. The next steps include sending a project brief, exploring potential consultants, setting up a development sandbox, and scheduling a project planning meeting.'"
      ]
     },
     "execution_count": 28,
     "metadata": {},
     "output_type": "execute_result"
    }
   ],
   "source": [
    "docs = TextLoader(\"./notes.txt\").load()\n",
    "llm = ChatOpenAI(engine=\"chatgpt-4\")\n",
    "chain = load_summarize_chain(llm, chain_type=\"stuff\")\n",
    "chain.run(docs)"
   ]
  },
  {
   "cell_type": "markdown",
   "metadata": {},
   "source": [
    "But as always, we would like to go beyond, why not set up a prompt template to allow for some customization of the summaries?"
   ]
  },
  {
   "cell_type": "code",
   "execution_count": 30,
   "metadata": {},
   "outputs": [
    {
     "data": {
      "text/markdown": [
       "- Kickoff meeting for new project, CodeName X, held on July 23, 2023. \n",
       "- John Doe presented an overview of the project aimed at developing a new AI model to improve product capabilities.\n",
       "- Project timeline estimated at 18 months, but subject to refinement.\n",
       "- Jane Smith discussed resources available, including a robust development team and AI training facilities; also proposed hiring external consultants.\n",
       "- Michael Brown proposed a two-stage development process, including an exploratory phase followed by a focused development phase.\n",
       "- Lisa Johnson emphasized good communication and suggested using Agile methodology for project management.\n",
       "- Upcoming steps: John to send out project brief, Jane to research potential consultants, Michael to set up a development sandbox, and Lisa to organize the project through the project management tool and schedule a planning meeting."
      ],
      "text/plain": [
       "<IPython.core.display.Markdown object>"
      ]
     },
     "execution_count": 30,
     "metadata": {},
     "output_type": "execute_result"
    }
   ],
   "source": [
    "prompt_template = \"\"\"Write a concise summary of the following text:\n",
    "\n",
    "{text}\n",
    "\n",
    "The summary should be in this style: {style}.\n",
    "Let's think step by step.\n",
    "\n",
    "SUMMARY:\"\"\"\n",
    "\n",
    "PROMPT = PromptTemplate(template=prompt_template,\n",
    "                        input_variables=[\"text\", \"style\"])\n",
    "\n",
    "chain = load_summarize_chain(llm, chain_type=\"stuff\", prompt=PROMPT)\n",
    "Markdown(chain.run({\"input_documents\": docs, \"style\": \"bullet points\"}))"
   ]
  },
  {
   "cell_type": "code",
   "execution_count": null,
   "metadata": {},
   "outputs": [],
   "source": [
    "#!pip install streamlit\n",
    "#!pip install altair --upgrade\n",
    "\n",
    "import altair as alt\n",
    "import streamlit as st  \n",
    "\n",
    "print(alt.__version__)\n",
    "print(st.__version__)\n"
   ]
  },
  {
   "cell_type": "markdown",
   "metadata": {},
   "source": [
    "Ok, let's wrap this into a streamlit app to allow for a nice looking user interface."
   ]
  },
  {
   "cell_type": "code",
   "execution_count": null,
   "metadata": {},
   "outputs": [],
   "source": [
    "# This app should be run in a separate .py file, it is here for\n",
    "# presentation purposes only\n",
    "from langchain import PromptTemplate\n",
    "from langchain.chat_models import ChatOpenAI\n",
    "from langchain.chains.summarize import load_summarize_chain\n",
    "from langchain.document_loaders import TextLoader\n",
    "import streamlit as st\n",
    "\n",
    "def load_text_file(text_file):\n",
    "    docs = TextLoader(text_file).load()\n",
    "    return docs\n",
    "\n",
    "\n",
    "def setup_summarization_chain(docs):\n",
    "    llm = ChatOpenAI(engine=\"chatgpt-4\")\n",
    "    prompt_template = \"\"\"Write a concise summary of the following text:\n",
    "\n",
    "    {text}\n",
    "\n",
    "    The summary should be in this style: {style}.\n",
    "    Let's think step by step.\n",
    "\n",
    "    SUMMARY:\"\"\"\n",
    "\n",
    "    PROMPT = PromptTemplate(template=prompt_template,\n",
    "                            input_variables=[\"text\", \"style\"])\n",
    "\n",
    "    chain = load_summarize_chain(llm, chain_type=\"stuff\", prompt=PROMPT)\n",
    "    return chain\n",
    "\n",
    "\n",
    "def summarize_content(docs, chain, summary_option):\n",
    "    \"\"\"\n",
    "    Runs the summarization chain with \n",
    "    the option specificed by the user.\n",
    "    \"\"\"\n",
    "    summary = chain.run({\"input_documents\": docs, \"style\": summary_option})\n",
    "    return summary\n",
    "\n",
    "\n",
    "\n",
    "st.title('Notes Summarizer using ChatGPT')\n",
    "uploaded_file = st.text_input(\"Choose a .txt file\")\n",
    "\n",
    "summary_option = st.selectbox(\n",
    "    'How do you want your summary?',\n",
    "    ('Simple', 'Bullet points', 'Introduction, Argument, Conclusion', 'Custom Summary')\n",
    ")\n",
    "\n",
    "if uploaded_file!=\"\":\n",
    "    docs = load_text_file(uploaded_file)\n",
    "    chain = setup_summarization_chain(docs)\n",
    "\n",
    "if st.button('Summarize'):\n",
    "    st.session_state.summary = summarize_content(docs, chain, summary_option)\n",
    "\n",
    "if 'summary' in st.session_state and st.session_state.summary:\n",
    "    st.write('Your Summary: ', st.session_state.summary)\n",
    "    if st.button('Download Summary'):\n",
    "        with open('summary.txt', 'w') as f:\n",
    "            f.write(st.session_state.summary)\n",
    "        \n",
    "        st.write(\"Your summary was downloaded to summary.txt\")"
   ]
  },
  {
   "cell_type": "markdown",
   "metadata": {},
   "source": [
    "**Break (10 minutes)**"
   ]
  },
  {
   "cell_type": "markdown",
   "metadata": {},
   "source": [
    "[Notes summarize example](https://platform.openai.com/examples/default-meeting-notes-summarizer)\n",
    "\n",
    "You will be provided with meeting notes, and your task is to summarize the meeting as follows:\n",
    "\n",
    "-Overall summary of discussion\n",
    "-Action items (what needs to be done and who is doing it)\n",
    "-If applicable, a list of topics that need to be discussed more fully in the next meeting.\n",
    "USER\n",
    "Meeting Date: March 5th, 2050\n",
    "Meeting Time: 2:00 PM\n",
    "Location: Conference Room 3B, Intergalactic Headquarters\n",
    "\n",
    "Attendees:\n",
    "- Captain Stardust\n",
    "- Dr. Quasar\n",
    "- Lady Nebula\n",
    "- Sir Supernova\n",
    "- Ms. Comet\n",
    "\n",
    "Meeting called to order by Captain Stardust at 2:05 PM\n",
    "\n",
    "1. Introductions and welcome to our newest team member, Ms. Comet\n",
    "\n",
    "2. Discussion of our recent mission to Planet Zog\n",
    "- Captain Stardust: \"Overall, a success, but communication with the Zogians was difficult. We need to improve our language skills.\"\n",
    "- Dr. Quasar: \"Agreed. I'll start working on a Zogian-English dictionary right away.\"\n",
    "- Lady Nebula: \"The Zogian food was out of this world, literally! We should consider having a Zogian food night on the ship.\"\n",
    "\n",
    "3. Addressing the space pirate issue in Sector 7\n",
    "- Sir Supernova: \"We need a better strategy for dealing with these pirates. They've already plundered three cargo ships this month.\"\n",
    "- Captain Stardust: \"I'll speak with Admiral Starbeam about increasing patrols in that area.\n",
    "- Dr. Quasar: \"I've been working on a new cloaking technology that could help our ships avoid detection by the pirates. I'll need a few more weeks to finalize the prototype.\"\n",
    "\n",
    "4. Review of the annual Intergalactic Bake-Off\n",
    "- Lady Nebula: \"I'm happy to report that our team placed second in the competition! Our Martian Mud Pie was a big hit!\"\n",
    "- Ms. Comet: \"Let's aim for first place next year. I have a secret recipe for Jupiter Jello that I think could be a winner.\"\n",
    "\n",
    "5. Planning for the upcoming charity fundraiser\n",
    "- Captain Stardust: \"We need some creative ideas for our booth at the Intergalactic Charity Bazaar.\"\n",
    "- Sir Supernova: \"How about a 'Dunk the Alien' game? We can have people throw water balloons at a volunteer dressed as an alien.\"\n",
    "- Dr. Quasar: \"I can set up a 'Name That Star' trivia game with prizes for the winners.\"\n",
    "- Lady Nebula: \"Great ideas, everyone. Let's start gathering the supplies and preparing the games.\"\n",
    "\n",
    "6. Upcoming team-building retreat\n",
    "- Ms. Comet: \"I would like to propose a team-building retreat to the Moon Resort and Spa. It's a great opportunity to bond and relax after our recent missions.\"\n",
    "- Captain Stardust: \"Sounds like a fantastic idea. I'll check the budget and see if we can make it happen.\"\n",
    "\n",
    "7. Next meeting agenda items\n",
    "- Update on the Zogian-English dictionary (Dr. Quasar)\n",
    "- Progress report on the cloaking technology (Dr. Quasar)\n",
    "- Results of increased patrols in Sector 7 (Captain Stardust)\n",
    "- Final preparations for the Intergalactic Charity Bazaar (All)\n",
    "\n",
    "Meeting adjourned at 3:15 PM. Next meeting scheduled for March 19th, 2050 at 2:00 PM in Conference Room 3B, Intergalactic Headquarters."
   ]
  }
 ],
 "metadata": {
  "kernelspec": {
   "display_name": "oreilly_env",
   "language": "python",
   "name": "python3"
  },
  "language_info": {
   "codemirror_mode": {
    "name": "ipython",
    "version": 3
   },
   "file_extension": ".py",
   "mimetype": "text/x-python",
   "name": "python",
   "nbconvert_exporter": "python",
   "pygments_lexer": "ipython3",
   "version": "3.9.7"
  },
  "orig_nbformat": 4
 },
 "nbformat": 4,
 "nbformat_minor": 2
}
